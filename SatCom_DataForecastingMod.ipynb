{
  "nbformat": 4,
  "nbformat_minor": 0,
  "metadata": {
    "colab": {
      "provenance": [],
      "authorship_tag": "ABX9TyNy8McKp1GBTN5uFrusA/8B"
    },
    "kernelspec": {
      "name": "python3",
      "display_name": "Python 3"
    },
    "language_info": {
      "name": "python"
    }
  },
  "cells": [
    {
      "cell_type": "code",
      "execution_count": 3,
      "metadata": {
        "colab": {
          "base_uri": "https://localhost:8080/"
        },
        "id": "aanbdgdA1RgN",
        "outputId": "295e2f73-0afd-40e5-aa2a-7a2816e7b2ce"
      },
      "outputs": [
        {
          "output_type": "stream",
          "name": "stdout",
          "text": [
            "Predicted frequency: [82.8]\n"
          ]
        }
      ],
      "source": [
        "import numpy as np\n",
        "from sklearn.linear_model import LinearRegression\n",
        "\n",
        "# Optimized input [Temperature, Humidity]\n",
        "weather_data = np.array([\n",
        "    [25, 16],\n",
        "    [26, 18],\n",
        "    [27, 21],\n",
        "    [28, 23],\n",
        "    [29, 25]\n",
        "])\n",
        "\n",
        "# Output: Communication Frequency\n",
        "sat_communication_freq = np.array([91, 89, 88, 86, 85])\n",
        "\n",
        "model = LinearRegression()\n",
        "model.fit(weather_data, sat_communication_freq)\n",
        "\n",
        "# Predict for new condition\n",
        "new_weather = np.array([[30, 26]])\n",
        "predicted_freq = model.predict(new_weather)\n",
        "\n",
        "print(\"Predicted frequency:\", predicted_freq)"
      ]
    }
  ]
}